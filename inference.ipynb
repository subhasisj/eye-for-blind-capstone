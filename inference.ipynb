{
 "cells": [
  {
   "cell_type": "markdown",
   "source": [
    "## Generate Captions for Trained Model"
   ],
   "metadata": {}
  },
  {
   "cell_type": "code",
   "execution_count": 3,
   "source": [
    "import tensorflow as tf\r\n",
    "import numpy as np\r\n",
    "import os\r\n",
    "from tensorflow.python.client import device_lib\r\n"
   ],
   "outputs": [],
   "metadata": {}
  },
  {
   "cell_type": "code",
   "execution_count": 4,
   "source": [
    "device_lib.list_local_devices()\r\n"
   ],
   "outputs": [
    {
     "output_type": "execute_result",
     "data": {
      "text/plain": [
       "[name: \"/device:CPU:0\"\n",
       " device_type: \"CPU\"\n",
       " memory_limit: 268435456\n",
       " locality {\n",
       " }\n",
       " incarnation: 16841250200609767946,\n",
       " name: \"/device:GPU:0\"\n",
       " device_type: \"GPU\"\n",
       " memory_limit: 4502585342\n",
       " locality {\n",
       "   bus_id: 1\n",
       "   links {\n",
       "   }\n",
       " }\n",
       " incarnation: 3713914112168138712\n",
       " physical_device_desc: \"device: 0, name: NVIDIA GeForce RTX 2060, pci bus id: 0000:01:00.0, compute capability: 7.5\"]"
      ]
     },
     "metadata": {},
     "execution_count": 4
    }
   ],
   "metadata": {}
  },
  {
   "cell_type": "code",
   "execution_count": 20,
   "source": [
    "def preprocess_image(image_path):\r\n",
    "    img = tf.io.read_file(image_path)\r\n",
    "    img = tf.image.decode_jpeg(img, channels=3)\r\n",
    "    img = tf.image.resize(img, (299, 299))\r\n",
    "    img = tf.keras.applications.inception_v3.preprocess_input(img)\r\n",
    "    return img, image_path"
   ],
   "outputs": [],
   "metadata": {}
  },
  {
   "cell_type": "markdown",
   "source": [
    "### Download InceptionV3"
   ],
   "metadata": {}
  },
  {
   "cell_type": "code",
   "execution_count": 6,
   "source": [
    "# image_model = tf.keras.applications.InceptionV3(include_top=False,weights='imagenet')\r\n",
    "\r\n",
    "# new_input = image_model.input#write code here to get the input of the image_model\r\n",
    "# hidden_layer = image_model.layers[-1].output#write code here to get the output of the image_model\r\n",
    "\r\n",
    "# image_features_extract_model = tf.keras.Model(new_input, hidden_layer)#build the final model using both input & output layer"
   ],
   "outputs": [],
   "metadata": {}
  },
  {
   "cell_type": "code",
   "execution_count": 7,
   "source": [
    "def initialize_InceptionV3_image_features_extract_model():\r\n",
    "    \"\"\"\r\n",
    "    :return: InceptionV3 model instance\r\n",
    "    \"\"\"\r\n",
    "    image_model = tf.keras.applications.InceptionV3(include_top=False,\r\n",
    "                                                    weights='imagenet')\r\n",
    "    new_input = image_model.input\r\n",
    "    hidden_layer = image_model.layers[-1].output  # shape [batch_size, 8, 8, 2048]\r\n",
    "\r\n",
    "    return tf.keras.Model(new_input, hidden_layer)"
   ],
   "outputs": [],
   "metadata": {}
  },
  {
   "cell_type": "code",
   "execution_count": 8,
   "source": [
    "embedding_dim = 256 \r\n",
    "units = 512\r\n",
    "vocab_size = 5001#top 5,000 words +1"
   ],
   "outputs": [],
   "metadata": {}
  },
  {
   "cell_type": "code",
   "execution_count": 9,
   "source": [
    "class Encoder(tf.keras.Model):\r\n",
    "    def __init__(self,embed_dim=256):\r\n",
    "        super(Encoder, self).__init__()\r\n",
    "        self.dense = tf.keras.layers.Dense(embedding_dim)#build your Dense layer with relu activation\r\n",
    "        \r\n",
    "    def call(self, features):\r\n",
    "        features =  self.dense(features)# extract the features from the image shape: (batch, 8*8, embed_dim)\r\n",
    "        features = tf.nn.relu(features)\r\n",
    "        return features"
   ],
   "outputs": [],
   "metadata": {}
  },
  {
   "cell_type": "code",
   "execution_count": 10,
   "source": [
    "encoder=Encoder(embedding_dim)"
   ],
   "outputs": [],
   "metadata": {}
  },
  {
   "cell_type": "markdown",
   "source": [
    "### Attention Model"
   ],
   "metadata": {}
  },
  {
   "cell_type": "code",
   "execution_count": 11,
   "source": [
    "class Attention_model(tf.keras.Model):\r\n",
    "    def __init__(self, units):\r\n",
    "        super(Attention_model, self).__init__()\r\n",
    "        self.W1 = tf.keras.layers.Dense(units)#build your Dense layer\r\n",
    "        self.W2 = tf.keras.layers.Dense(units)#build your Dense layer\r\n",
    "        self.V = tf.keras.layers.Dense(1)#build your final Dense layer with unit 1\r\n",
    "        self.units=units\r\n",
    "\r\n",
    "    def call(self, features, hidden):\r\n",
    "        #features shape: (batch_size, 8*8, embedding_dim)\r\n",
    "        # hidden shape: (batch_size, hidden_size)\r\n",
    "        hidden_with_time_axis =  tf.expand_dims(hidden,1)# Expand the hidden shape to shape: (batch_size, 1, hidden_size)\r\n",
    "        # attention_hidden_layer shape == (batch_size, 64, units)\r\n",
    "        attention_hidden_layer = (tf.nn.tanh(self.W1(features) +\r\n",
    "                                            self.W2(hidden_with_time_axis)))\r\n",
    "        score = self.V(attention_hidden_layer)# build your score funciton to shape: (batch_size, 8*8, units)\r\n",
    "        attention_weights =  tf.nn.softmax(score,axis=1)# extract your attention weights with shape: (batch_size, 8*8, 1)\r\n",
    "        context_vector =  attention_weights * features#shape: create the context vector with shape (batch_size, 8*8,embedding_dim)\r\n",
    "        context_vector =  tf.reduce_sum(context_vector, axis=1)# reduce the shape to (batch_size, embedding_dim)\r\n",
    "        \r\n",
    "\r\n",
    "        return context_vector, attention_weights"
   ],
   "outputs": [],
   "metadata": {}
  },
  {
   "cell_type": "code",
   "execution_count": 12,
   "source": [
    "class Decoder(tf.keras.Model):\r\n",
    "    def __init__(self, embed_dim, units, vocab_size):\r\n",
    "        super(Decoder, self).__init__()\r\n",
    "        self.units=units\r\n",
    "        self.attention = Attention_model(self.units)#iniitalise your Attention model with units\r\n",
    "        self.embed = tf.keras.layers.Embedding(vocab_size, embedding_dim)#build your Embedding layer\r\n",
    "        self.gru = tf.keras.layers.GRU(self.units,return_sequences=True,return_state=True,recurrent_initializer='glorot_uniform')\r\n",
    "        self.d1 = tf.keras.layers.Dense(self.units)#build your Dense layer\r\n",
    "        self.d2 = tf.keras.layers.Dense(vocab_size)#build your Dense layer\r\n",
    "        \r\n",
    "\r\n",
    "    def call(self,x,features, hidden):\r\n",
    "        context_vector, attention_weights = self.attention(features, hidden)#create your context vector & attention weights from attention model\r\n",
    "        embed =  self.embed(x)# embed your input to shape: (batch_size, 1, embedding_dim)\r\n",
    "        embed =  tf.concat([tf.expand_dims(context_vector, 1), embed], axis=-1)# Concatenate your input with the context vector from attention layer. Shape: (batch_size, 1, embedding_dim + embedding_dim)\r\n",
    "        output,state = self.gru(embed)# Extract the output & hidden state from GRU layer. Output shape : (batch_size, max_length, hidden_size)\r\n",
    "        output = self.d1(output)\r\n",
    "        output = tf.reshape(output, (-1, output.shape[2])) # shape : (batch_size * max_length, hidden_size)\r\n",
    "        output = self.d2(output) # shape : (batch_size * max_length, vocab_size)\r\n",
    "        \r\n",
    "        return output,state, attention_weights\r\n",
    "    \r\n",
    "    def init_state(self, batch_size):\r\n",
    "        return tf.zeros((batch_size, self.units))"
   ],
   "outputs": [],
   "metadata": {}
  },
  {
   "cell_type": "code",
   "execution_count": 13,
   "source": [
    "decoder=Decoder(embedding_dim, units, vocab_size)"
   ],
   "outputs": [],
   "metadata": {}
  },
  {
   "cell_type": "code",
   "execution_count": 14,
   "source": [
    "import pickle\r\n",
    "def get_caption_tokenizer(caption_tokenizer_path=\"./checkpoints/tokenizer.pkl\"):\r\n",
    "    with open(caption_tokenizer_path, \"rb\") as f:\r\n",
    "        return pickle.load(f)"
   ],
   "outputs": [],
   "metadata": {}
  },
  {
   "cell_type": "code",
   "execution_count": 15,
   "source": [
    "def restore_model(checkpoint_path = \"./checkpoints/train\", vocab_size=5001):\r\n",
    "    tokenizer = get_caption_tokenizer()\r\n",
    "    dec_input = tf.expand_dims([tokenizer.word_index['<start>']], 0)\r\n",
    "    encoder = Encoder()\r\n",
    "    decoder = Decoder(embed_dim=dec_input, units = units, vocab_size = vocab_size)\r\n",
    "    optimizer = tf.keras.optimizers.Adam()\r\n",
    "\r\n",
    "    ckpt = tf.train.Checkpoint(encoder=encoder,\r\n",
    "                               decoder=decoder,\r\n",
    "                               optimizer=optimizer)\r\n",
    "\r\n",
    "    ckpt_manager = tf.train.CheckpointManager(ckpt, checkpoint_path, max_to_keep=5)\r\n",
    "    # if a checkpoint exists, restore the latest checkpoint.\r\n",
    "    if ckpt_manager.latest_checkpoint:\r\n",
    "        ckpt.restore(ckpt_manager.latest_checkpoint)\r\n",
    "        print('Latest checkpoint restored!')\r\n",
    "\r\n",
    "    return encoder, decoder, tokenizer,initialize_InceptionV3_image_features_extract_model()"
   ],
   "outputs": [],
   "metadata": {}
  },
  {
   "cell_type": "code",
   "execution_count": 16,
   "source": [
    "encoder, decoder, tokenizer, image_model = restore_model()"
   ],
   "outputs": [
    {
     "output_type": "stream",
     "name": "stdout",
     "text": [
      "Latest checkpoint restored!\n"
     ]
    }
   ],
   "metadata": {}
  },
  {
   "cell_type": "code",
   "execution_count": 17,
   "source": [
    "from PIL import Image\r\n",
    "\r\n",
    "attention_features_shape = 64\r\n",
    "\r\n",
    "def evaluate(image,max_sequence_len=35,attention_features_shape = 64):\r\n",
    "    attention_plot = np.zeros((max_sequence_len, attention_features_shape))\r\n",
    "\r\n",
    "    hidden = decoder.init_state(batch_size=1)\r\n",
    "\r\n",
    "    temp_input = tf.expand_dims(preprocess_image(image)[0], 0) #process the input image to desired format before extracting features\r\n",
    "    \r\n",
    "    img_tensor_val = image_model(temp_input)# Extract features using our feature extraction model\r\n",
    "    img_tensor_val = tf.reshape(img_tensor_val, (img_tensor_val.shape[0], -1, img_tensor_val.shape[3]))\r\n",
    "\r\n",
    "    features = encoder(img_tensor_val)# extract the features by passing the input to encoder\r\n",
    "\r\n",
    "    dec_input = tf.expand_dims([tokenizer.word_index['<start>']], 0)\r\n",
    "    result = []\r\n",
    "\r\n",
    "    for i in range(max_sequence_len):\r\n",
    "        predictions, hidden, attention_weights = decoder(dec_input,\r\n",
    "                                                         features,\r\n",
    "                                                         hidden)# get the output from decoder\r\n",
    "\r\n",
    "        attention_plot[i] = tf.reshape(attention_weights, (-1, )).numpy()\r\n",
    "\r\n",
    "        predicted_id = tf.random.categorical(predictions, 1)[0][0].numpy()#extract the predicted id(embedded value) which carries the max value\r\n",
    "        result.append(tokenizer.index_word[predicted_id])\r\n",
    "        #map the id to the word from tokenizer and append the value to the result list\r\n",
    "\r\n",
    "        if tokenizer.index_word[predicted_id] == '<end>':\r\n",
    "            return result, attention_plot,predictions\r\n",
    "\r\n",
    "        dec_input = tf.expand_dims([predicted_id], 0)\r\n",
    "\r\n",
    "    attention_plot = attention_plot[:len(result), :]\r\n",
    "    return result, attention_plot,predictions"
   ],
   "outputs": [],
   "metadata": {}
  },
  {
   "cell_type": "code",
   "execution_count": 18,
   "source": [
    "vocab_size = len(tokenizer.word_index) + 1\r\n",
    "\r\n",
    "# Preparing validation set data\r\n",
    "\r\n",
    "sample_image = \"./data/Images/3767841911_6678052eb6.jpg\"\r\n",
    "\r\n",
    "def Prediction_Unknown_data(test_image):\r\n",
    "    #Testing on test image\r\n",
    "    openImg = test_image\r\n",
    "    # print(test_image)\r\n",
    "    #real_caption = ' '.join([tokenizer.index_word[i] for i in cap_test[rid] if i not in [0]])\r\n",
    "    result, attention_plot,pred_test = evaluate(test_image)\r\n",
    "    pred_caption=' '.join(result).rsplit(' ', 1)[0]\r\n",
    "\r\n",
    "    candidate = pred_caption.split()\r\n",
    "\r\n",
    "    print ('Prediction Caption:', pred_caption)\r\n",
    "    print ('')\r\n",
    "    #plot_attmap(result, attention_plot, test_image)\r\n",
    "    #plt.imshow(load_image(test_image)[0])\r\n",
    "    \r\n",
    "    im = Image.open(openImg)\r\n",
    "    width, height = im.size\r\n",
    "    print(width,height)\r\n",
    "    div=3\r\n",
    "    if width > 3000:\r\n",
    "        div=10\r\n",
    "    im = im.resize((width//div, height//div))\r\n",
    "    \r\n",
    "#    newsize = (200, 200)\r\n",
    "    #openImg = openImg.resize(200,200)\r\n",
    "    #return Image.open(openImg).resize(newsize)\r\n",
    "    return im"
   ],
   "outputs": [],
   "metadata": {}
  },
  {
   "cell_type": "code",
   "execution_count": 21,
   "source": [
    "Prediction_Unknown_data(sample_image)"
   ],
   "outputs": [
    {
     "output_type": "stream",
     "name": "stdout",
     "text": [
      "Prediction Caption: a little boy runs near water\n",
      "\n",
      "500 353\n"
     ]
    },
    {
     "output_type": "execute_result",
     "data": {
      "image/png": "[encoded data removed]",
      "text/plain": [
       "<PIL.Image.Image image mode=RGB size=166x117 at 0x20BBDF4E4F0>"
      ]
     },
     "metadata": {},
     "execution_count": 21
    }
   ],
   "metadata": {}
  },
  {
   "cell_type": "code",
   "execution_count": null,
   "source": [],
   "outputs": [],
   "metadata": {}
  }
 ],
 "metadata": {
  "orig_nbformat": 4,
  "language_info": {
   "name": "python",
   "version": "3.8.11",
   "mimetype": "text/x-python",
   "codemirror_mode": {
    "name": "ipython",
    "version": 3
   },
   "pygments_lexer": "ipython3",
   "nbconvert_exporter": "python",
   "file_extension": ".py"
  },
  "kernelspec": {
   "name": "python3",
   "display_name": "Python 3.8.11 64-bit ('tensorflow-global-gpu': conda)"
  },
  "interpreter": {
   "hash": "4e8f2371acb2bdb07326970f6256330824211fef99200da2c1140320fb428c10"
  }
 },
 "nbformat": 4,
 "nbformat_minor": 2
}